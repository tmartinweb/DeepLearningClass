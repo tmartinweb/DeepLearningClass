{
  "nbformat": 4,
  "nbformat_minor": 0,
  "metadata": {
    "colab": {
      "name": "Regression.ipynb",
      "provenance": []
    },
    "kernelspec": {
      "name": "python3",
      "display_name": "Python 3"
    },
    "language_info": {
      "name": "python"
    }
  },
  "cells": [
    {
      "cell_type": "code",
      "metadata": {
        "id": "EELG6s8hrOh1"
      },
      "source": [
        "import pandas as pd\n",
        "import numpy as np\n",
        "import matplotlib.pyplot as plt"
      ],
      "execution_count": 1,
      "outputs": []
    },
    {
      "cell_type": "code",
      "metadata": {
        "id": "kHD_AhSdrTic"
      },
      "source": [
        "train = pd.read_csv('houses_dataset.csv')"
      ],
      "execution_count": 2,
      "outputs": []
    },
    {
      "cell_type": "markdown",
      "metadata": {
        "id": "JW_5CRPorZQ2"
      },
      "source": [
        "# handling missing value"
      ]
    },
    {
      "cell_type": "code",
      "metadata": {
        "id": "Jzz14ZuorXmu"
      },
      "source": [
        "data = train.select_dtypes(include=[np.number]).interpolate().dropna()"
      ],
      "execution_count": 4,
      "outputs": []
    },
    {
      "cell_type": "markdown",
      "metadata": {
        "id": "-dq3BUZhrb40"
      },
      "source": [
        "# Build a linear model"
      ]
    },
    {
      "cell_type": "code",
      "metadata": {
        "id": "o_GJEQTlrdlG"
      },
      "source": [
        "y = np.log(train.SalePrice)\n",
        "X = data.drop(['SalePrice', 'Id'], axis=1)"
      ],
      "execution_count": 5,
      "outputs": []
    },
    {
      "cell_type": "markdown",
      "metadata": {
        "id": "XsGLL9iIrrBN"
      },
      "source": [
        "# Train Test Split"
      ]
    },
    {
      "cell_type": "code",
      "metadata": {
        "id": "j3C5wRbIre9O"
      },
      "source": [
        "from sklearn.model_selection import train_test_split\n",
        "X_train, X_test, y_train, y_test = train_test_split(X, y, random_state=42, test_size=.33)"
      ],
      "execution_count": 6,
      "outputs": []
    },
    {
      "cell_type": "markdown",
      "metadata": {
        "id": "MkLmPuQ-rvE3"
      },
      "source": [
        "## Fit Linear Model"
      ]
    },
    {
      "cell_type": "code",
      "metadata": {
        "id": "J-zAFqHdrtA3"
      },
      "source": [
        "from sklearn import linear_model\n",
        "lr = linear_model.LinearRegression()\n",
        "model = lr.fit(X_train, y_train)"
      ],
      "execution_count": 7,
      "outputs": []
    },
    {
      "cell_type": "markdown",
      "metadata": {
        "id": "dyPbAqgZrzef"
      },
      "source": [
        "# Evaluate the performance and visualize results"
      ]
    },
    {
      "cell_type": "code",
      "metadata": {
        "colab": {
          "base_uri": "https://localhost:8080/"
        },
        "id": "3nk-E9KTrxyH",
        "outputId": "e26532ee-aed3-4923-b8f9-02254b15d627"
      },
      "source": [
        "print(\"R^2 is: \\n\", model.score(X_test, y_test))"
      ],
      "execution_count": 8,
      "outputs": [
        {
          "output_type": "stream",
          "text": [
            "R^2 is: \n",
            " 0.8627547060335301\n"
          ],
          "name": "stdout"
        }
      ]
    },
    {
      "cell_type": "markdown",
      "metadata": {
        "id": "2CKfsd7-r4SU"
      },
      "source": [
        "# Predict in testing data"
      ]
    },
    {
      "cell_type": "code",
      "metadata": {
        "id": "rKo4Imd7r1lO"
      },
      "source": [
        "predictions = model.predict(X_test)"
      ],
      "execution_count": 9,
      "outputs": []
    },
    {
      "cell_type": "code",
      "metadata": {
        "colab": {
          "base_uri": "https://localhost:8080/"
        },
        "id": "aYqotVZRr8v4",
        "outputId": "29cff54c-2119-4e0d-cb27-f3636a49a232"
      },
      "source": [
        "from sklearn.metrics import mean_squared_error\n",
        "print ('RMSE is: \\n', mean_squared_error(y_test, predictions))"
      ],
      "execution_count": 10,
      "outputs": [
        {
          "output_type": "stream",
          "text": [
            "RMSE is: \n",
            " 0.023390905304161397\n"
          ],
          "name": "stdout"
        }
      ]
    },
    {
      "cell_type": "markdown",
      "metadata": {
        "id": "MCyadEPnr_lU"
      },
      "source": [
        "# visualize"
      ]
    },
    {
      "cell_type": "code",
      "metadata": {
        "colab": {
          "base_uri": "https://localhost:8080/",
          "height": 295
        },
        "id": "HQhIM4MPr-OY",
        "outputId": "cc7d6835-e979-456d-f925-b396afd83a17"
      },
      "source": [
        "actual_values = y_test\n",
        "plt.scatter(predictions, actual_values, alpha=.75,\n",
        "            color='b') #alpha helps to show overlapping data\n",
        "plt.xlabel('Predicted Price')\n",
        "plt.ylabel('Actual Price')\n",
        "plt.title('Linear Regression Model')\n",
        "plt.show()"
      ],
      "execution_count": 11,
      "outputs": [
        {
          "output_type": "display_data",
          "data": {
            "image/png": "[encoded data removed]",
            "text/plain": [
              "<Figure size 432x288 with 1 Axes>"
            ]
          },
          "metadata": {
            "tags": [],
            "needs_background": "light"
          }
        }
      ]
    },
    {
      "cell_type": "code",
      "metadata": {
        "id": "-XIq5F4esCFP"
      },
      "source": [
        ""
      ],
      "execution_count": null,
      "outputs": []
    }
  ]
}