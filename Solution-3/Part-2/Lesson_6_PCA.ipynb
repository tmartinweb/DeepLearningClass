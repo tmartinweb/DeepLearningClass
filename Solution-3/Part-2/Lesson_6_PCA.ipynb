{
  "nbformat": 4,
  "nbformat_minor": 0,
  "metadata": {
    "colab": {
      "name": "Lesson_6_PCA.ipynb",
      "provenance": []
    },
    "kernelspec": {
      "name": "python3",
      "display_name": "Python 3"
    },
    "language_info": {
      "name": "python"
    }
  },
  "cells": [
    {
      "cell_type": "code",
      "metadata": {
        "id": "-3DPQp7AsY6s"
      },
      "source": [
        "import pandas as pd\n",
        "from sklearn.decomposition import PCA\n",
        "from sklearn.preprocessing import StandardScaler\n",
        "import matplotlib.pyplot as plt\n",
        "from matplotlib import style\n",
        "style.use('ggplot')\n",
        "import seaborn as sns"
      ],
      "execution_count": 1,
      "outputs": []
    },
    {
      "cell_type": "code",
      "metadata": {
        "id": "6RD9crKbsqKn"
      },
      "source": [
        "dataset = pd.read_csv('Iris.csv')\n",
        "x = dataset.iloc[:,[1,2,3,4]]\n",
        "y = dataset.iloc[:,-1]"
      ],
      "execution_count": 2,
      "outputs": []
    },
    {
      "cell_type": "code",
      "metadata": {
        "colab": {
          "base_uri": "https://localhost:8080/"
        },
        "id": "kckF2mNCs8xC",
        "outputId": "a7c9e3f1-1aa5-4438-9a17-ab14942f975a"
      },
      "source": [
        "scaler = StandardScaler()\n",
        "# Fit on training set only.\n",
        "scaler.fit(x)"
      ],
      "execution_count": 3,
      "outputs": [
        {
          "output_type": "execute_result",
          "data": {
            "text/plain": [
              "StandardScaler(copy=True, with_mean=True, with_std=True)"
            ]
          },
          "metadata": {
            "tags": []
          },
          "execution_count": 3
        }
      ]
    },
    {
      "cell_type": "code",
      "metadata": {
        "id": "UJJGoQRts_tT"
      },
      "source": [
        "x_scaler = scaler.transform(x)\n",
        "pca = PCA(2)  # Instantiate the model with hyperparameters\n",
        "x_pca = pca.fit_transform(x_scaler) # Fit to data and transform. Notice y is not specified!"
      ],
      "execution_count": 4,
      "outputs": []
    },
    {
      "cell_type": "code",
      "metadata": {
        "colab": {
          "base_uri": "https://localhost:8080/"
        },
        "id": "Uarytj6StVMF",
        "outputId": "51acd63f-27bc-47ae-9be7-a08ca2cc5c25"
      },
      "source": [
        "df2 = pd.DataFrame(data=x_pca)\n",
        "finaldf = pd.concat([df2, dataset[['Species']]],axis=1)\n",
        "print(finaldf)"
      ],
      "execution_count": 8,
      "outputs": [
        {
          "output_type": "stream",
          "text": [
            "            0         1         Species\n",
            "0   -2.264542  0.505704     Iris-setosa\n",
            "1   -2.086426 -0.655405     Iris-setosa\n",
            "2   -2.367950 -0.318477     Iris-setosa\n",
            "3   -2.304197 -0.575368     Iris-setosa\n",
            "4   -2.388777  0.674767     Iris-setosa\n",
            "..        ...       ...             ...\n",
            "145  1.870522  0.382822  Iris-virginica\n",
            "146  1.558492 -0.905314  Iris-virginica\n",
            "147  1.520845  0.266795  Iris-virginica\n",
            "148  1.376391  1.016362  Iris-virginica\n",
            "149  0.959299 -0.022284  Iris-virginica\n",
            "\n",
            "[150 rows x 3 columns]\n"
          ],
          "name": "stdout"
        }
      ]
    },
    {
      "cell_type": "code",
      "metadata": {
        "id": "l7Lmuu5Uu0lm"
      },
      "source": [
        ""
      ],
      "execution_count": null,
      "outputs": []
    }
  ]
}