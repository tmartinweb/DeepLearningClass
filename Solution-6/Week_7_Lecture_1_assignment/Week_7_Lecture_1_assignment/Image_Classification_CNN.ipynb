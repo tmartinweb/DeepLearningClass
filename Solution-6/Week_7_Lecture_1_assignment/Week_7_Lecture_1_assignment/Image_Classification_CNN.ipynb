{
  "nbformat": 4,
  "nbformat_minor": 0,
  "metadata": {
    "colab": {
      "name": "Image_Classification_CNN.ipynb",
      "provenance": [],
      "collapsed_sections": []
    },
    "kernelspec": {
      "name": "python3",
      "display_name": "Python 3"
    },
    "accelerator": "GPU"
  },
  "cells": [
    {
      "cell_type": "markdown",
      "metadata": {
        "id": "pWnbnDd1AqwK"
      },
      "source": [
        "# Simple CNN model for CIFAR-10\n"
      ]
    },
    {
      "cell_type": "code",
      "metadata": {
        "id": "iYpSkpfkAJ9c"
      },
      "source": [
        "import numpy\n",
        "from keras.datasets import cifar10\n",
        "from keras.models import Sequential\n",
        "from keras.layers import Dense, Flatten, Dropout, Input, BatchNormalization\n",
        "from keras.constraints import maxnorm\n",
        "from keras.models import Model\n",
        "from keras.optimizers import SGD, Adam\n",
        "from keras.layers.convolutional import Conv2D, MaxPooling2D\n",
        "from keras.utils import np_utils\n",
        "from keras import backend as K"
      ],
      "execution_count": null,
      "outputs": []
    },
    {
      "cell_type": "markdown",
      "metadata": {
        "id": "GJpsavCTA0Dj"
      },
      "source": [
        "load data"
      ]
    },
    {
      "cell_type": "code",
      "metadata": {
        "id": "QCOqhYJqAxmj"
      },
      "source": [
        "(X_train, y_train), (X_test, y_test) = cifar10.load_data()"
      ],
      "execution_count": null,
      "outputs": []
    },
    {
      "cell_type": "markdown",
      "metadata": {
        "id": "knMRFaZUBL8r"
      },
      "source": [
        "normalize inputs from 0-255 to 0.0-1.0"
      ]
    },
    {
      "cell_type": "code",
      "metadata": {
        "id": "7YH35TxjBJIH"
      },
      "source": [
        "X_train = X_train.astype('float32')\n",
        "X_test = X_test.astype('float32')\n",
        "X_train = X_train / 255.0\n",
        "X_test = X_test / 255.0"
      ],
      "execution_count": null,
      "outputs": []
    },
    {
      "cell_type": "code",
      "metadata": {
        "id": "W8GXS6V3vFiN",
        "colab": {
          "base_uri": "https://localhost:8080/"
        },
        "outputId": "26d52f61-3f15-4563-fb20-35cdc6be9807"
      },
      "source": [
        "print(X_train.shape)"
      ],
      "execution_count": null,
      "outputs": [
        {
          "output_type": "stream",
          "text": [
            "(50000, 32, 32, 3)\n",
            "(50000, 1)\n"
          ],
          "name": "stdout"
        }
      ]
    },
    {
      "cell_type": "markdown",
      "metadata": {
        "id": "XIVTFI4SBTTU"
      },
      "source": [
        "one hot encode labels"
      ]
    },
    {
      "cell_type": "code",
      "metadata": {
        "id": "1ZqCaDjUBTwl"
      },
      "source": [
        "y_train = np_utils.to_categorical(y_train)\n",
        "y_test = np_utils.to_categorical(y_test)\n",
        "num_classes = y_test.shape[1]"
      ],
      "execution_count": null,
      "outputs": []
    },
    {
      "cell_type": "code",
      "metadata": {
        "id": "x5B2yZL4vXom",
        "colab": {
          "base_uri": "https://localhost:8080/"
        },
        "outputId": "c3e65f2b-3557-4f9e-a9d5-64e429ba78c8"
      },
      "source": [
        "print(num_classes)"
      ],
      "execution_count": null,
      "outputs": [
        {
          "output_type": "stream",
          "text": [
            "10\n"
          ],
          "name": "stdout"
        }
      ]
    },
    {
      "cell_type": "markdown",
      "metadata": {
        "id": "9PXbifxcBXdv"
      },
      "source": [
        "Create the model"
      ]
    },
    {
      "cell_type": "code",
      "metadata": {
        "id": "42jnKJGpBV-I"
      },
      "source": [
        "inputs = Input(X_train.shape[1:])\n",
        "\n",
        "# Create 3 sandwiched layers, each to the pattern {Conv, Drop, Conv, Pool}\n",
        "x = Conv2D(32, (3, 3), padding='same', activation='relu')(inputs)\n",
        "x = Dropout(0.2)(x)\n",
        "x = Conv2D(32, (3, 3), activation='relu', padding='same')(x)\n",
        "x = MaxPooling2D(pool_size=(2, 2))(x)\n",
        "\n",
        "x = Conv2D(64, (3, 3), padding='same', activation='relu')(x)\n",
        "x = Dropout(0.2)(x)\n",
        "x = Conv2D(64, (3, 3), activation='relu', padding='same')(x)\n",
        "x = MaxPooling2D(pool_size=(2, 2))(x)\n",
        "\n",
        "x = Conv2D(128, (3, 3), padding='same', activation='relu')(x)\n",
        "x = Dropout(0.2)(x)\n",
        "x = Conv2D(128, (3, 3), activation='relu', padding='same')(x)\n",
        "x = MaxPooling2D(pool_size=(2, 2))(x)\n",
        "\n",
        "# Flatten to use in fully connected layers\n",
        "x = Flatten()(x)\n",
        "x = Dropout(0.2)(x)\n",
        "\n",
        "# Create fully connected layers\n",
        "x = Dense(1024, activation='relu', kernel_constraint=maxnorm(3))(x)\n",
        "x = Dropout(0.2)(x)\n",
        "\n",
        "x = Dense(512, activation='relu', kernel_constraint=maxnorm(3))(x)\n",
        "x = Dropout(0.2)(x)\n",
        "\n",
        "# Define output layer via softmax, for non-binary categorical classification\n",
        "outputs = Dense(num_classes, activation='softmax')(x)\n",
        "\n",
        "# Instantiate model\n",
        "model = Model(inputs=inputs, outputs=outputs)"
      ],
      "execution_count": null,
      "outputs": []
    },
    {
      "cell_type": "markdown",
      "metadata": {
        "id": "Agtcn0FvBc50"
      },
      "source": [
        "Compile model"
      ]
    },
    {
      "cell_type": "code",
      "metadata": {
        "id": "mU0e5-U7Ba2q"
      },
      "source": [
        "epochs = 70\n",
        "lrate = 0.001\n",
        "opt_adam = Adam(learning_rate=lrate)\n",
        "model.compile(loss='categorical_crossentropy', optimizer=opt_adam, metrics=['accuracy'])"
      ],
      "execution_count": null,
      "outputs": []
    },
    {
      "cell_type": "code",
      "metadata": {
        "id": "jPAxsGBWBgPL",
        "colab": {
          "base_uri": "https://localhost:8080/"
        },
        "outputId": "f0697cb2-1f3d-4ca6-fa5b-56541fa8d775"
      },
      "source": [
        "print(model.summary())"
      ],
      "execution_count": null,
      "outputs": [
        {
          "output_type": "stream",
          "text": [
            "Model: \"model_3\"\n",
            "_________________________________________________________________\n",
            "Layer (type)                 Output Shape              Param #   \n",
            "=================================================================\n",
            "input_4 (InputLayer)         [(None, 32, 32, 3)]       0         \n",
            "_________________________________________________________________\n",
            "conv2d_16 (Conv2D)           (None, 32, 32, 32)        896       \n",
            "_________________________________________________________________\n",
            "dropout_18 (Dropout)         (None, 32, 32, 32)        0         \n",
            "_________________________________________________________________\n",
            "conv2d_17 (Conv2D)           (None, 32, 32, 32)        9248      \n",
            "_________________________________________________________________\n",
            "max_pooling2d_8 (MaxPooling2 (None, 16, 16, 32)        0         \n",
            "_________________________________________________________________\n",
            "conv2d_18 (Conv2D)           (None, 16, 16, 64)        18496     \n",
            "_________________________________________________________________\n",
            "dropout_19 (Dropout)         (None, 16, 16, 64)        0         \n",
            "_________________________________________________________________\n",
            "conv2d_19 (Conv2D)           (None, 16, 16, 64)        36928     \n",
            "_________________________________________________________________\n",
            "max_pooling2d_9 (MaxPooling2 (None, 8, 8, 64)          0         \n",
            "_________________________________________________________________\n",
            "conv2d_20 (Conv2D)           (None, 8, 8, 128)         73856     \n",
            "_________________________________________________________________\n",
            "dropout_20 (Dropout)         (None, 8, 8, 128)         0         \n",
            "_________________________________________________________________\n",
            "conv2d_21 (Conv2D)           (None, 8, 8, 128)         147584    \n",
            "_________________________________________________________________\n",
            "max_pooling2d_10 (MaxPooling (None, 4, 4, 128)         0         \n",
            "_________________________________________________________________\n",
            "flatten_4 (Flatten)          (None, 2048)              0         \n",
            "_________________________________________________________________\n",
            "dropout_21 (Dropout)         (None, 2048)              0         \n",
            "_________________________________________________________________\n",
            "dense_10 (Dense)             (None, 1024)              2098176   \n",
            "_________________________________________________________________\n",
            "dropout_22 (Dropout)         (None, 1024)              0         \n",
            "_________________________________________________________________\n",
            "dense_11 (Dense)             (None, 512)               524800    \n",
            "_________________________________________________________________\n",
            "dropout_23 (Dropout)         (None, 512)               0         \n",
            "_________________________________________________________________\n",
            "dense_12 (Dense)             (None, 10)                5130      \n",
            "=================================================================\n",
            "Total params: 2,915,114\n",
            "Trainable params: 2,915,114\n",
            "Non-trainable params: 0\n",
            "_________________________________________________________________\n",
            "None\n"
          ],
          "name": "stdout"
        }
      ]
    },
    {
      "cell_type": "markdown",
      "metadata": {
        "id": "vI3s6IHMBogK"
      },
      "source": [
        "Fit the model"
      ]
    },
    {
      "cell_type": "code",
      "metadata": {
        "id": "hFS521-iBh-n",
        "colab": {
          "base_uri": "https://localhost:8080/"
        },
        "outputId": "486b433d-de68-4daa-b046-349273b15bdc"
      },
      "source": [
        "# Import callback functions from keras\n",
        "from keras.callbacks import EarlyStopping, ModelCheckpoint\n",
        "\n",
        "# Create list of Instantiated callbacks to be used\n",
        "my_callbacks = [EarlyStopping(monitor='val_accuracy', patience=3), ModelCheckpoint('/checkpoint', monitor=\"val_accuracy\")]\n",
        "\n",
        "# Fit model\n",
        "model.fit(X_train, y_train, validation_data=(X_test, y_test), epochs=epochs, batch_size=128, verbose=1, callbacks=my_callbacks)"
      ],
      "execution_count": null,
      "outputs": [
        {
          "output_type": "stream",
          "text": [
            "Epoch 1/70\n",
            "391/391 [==============================] - 9s 18ms/step - loss: 1.9363 - accuracy: 0.2699 - val_loss: 1.3597 - val_accuracy: 0.5081\n",
            "INFO:tensorflow:Assets written to: /checkpoint/assets\n",
            "Epoch 2/70\n",
            "391/391 [==============================] - 7s 17ms/step - loss: 1.2774 - accuracy: 0.5298 - val_loss: 1.1026 - val_accuracy: 0.6112\n",
            "INFO:tensorflow:Assets written to: /checkpoint/assets\n",
            "Epoch 3/70\n",
            "391/391 [==============================] - 6s 16ms/step - loss: 1.0393 - accuracy: 0.6332 - val_loss: 0.9194 - val_accuracy: 0.6807\n",
            "INFO:tensorflow:Assets written to: /checkpoint/assets\n",
            "Epoch 4/70\n",
            "391/391 [==============================] - 6s 16ms/step - loss: 0.8767 - accuracy: 0.6924 - val_loss: 0.8087 - val_accuracy: 0.7188\n",
            "INFO:tensorflow:Assets written to: /checkpoint/assets\n",
            "Epoch 5/70\n",
            "391/391 [==============================] - 6s 16ms/step - loss: 0.7719 - accuracy: 0.7241 - val_loss: 0.7254 - val_accuracy: 0.7523\n",
            "INFO:tensorflow:Assets written to: /checkpoint/assets\n",
            "Epoch 6/70\n",
            "391/391 [==============================] - 6s 16ms/step - loss: 0.6795 - accuracy: 0.7596 - val_loss: 0.6870 - val_accuracy: 0.7626\n",
            "INFO:tensorflow:Assets written to: /checkpoint/assets\n",
            "Epoch 7/70\n",
            "391/391 [==============================] - 6s 16ms/step - loss: 0.6211 - accuracy: 0.7821 - val_loss: 0.6729 - val_accuracy: 0.7708\n",
            "INFO:tensorflow:Assets written to: /checkpoint/assets\n",
            "Epoch 8/70\n",
            "391/391 [==============================] - 6s 16ms/step - loss: 0.5546 - accuracy: 0.8048 - val_loss: 0.6497 - val_accuracy: 0.7761\n",
            "INFO:tensorflow:Assets written to: /checkpoint/assets\n",
            "Epoch 9/70\n",
            "391/391 [==============================] - 6s 16ms/step - loss: 0.5278 - accuracy: 0.8129 - val_loss: 0.6432 - val_accuracy: 0.7819\n",
            "INFO:tensorflow:Assets written to: /checkpoint/assets\n",
            "Epoch 10/70\n",
            "391/391 [==============================] - 6s 16ms/step - loss: 0.4755 - accuracy: 0.8328 - val_loss: 0.6617 - val_accuracy: 0.7750\n",
            "INFO:tensorflow:Assets written to: /checkpoint/assets\n",
            "Epoch 11/70\n",
            "391/391 [==============================] - 6s 16ms/step - loss: 0.4514 - accuracy: 0.8389 - val_loss: 0.6348 - val_accuracy: 0.7927\n",
            "INFO:tensorflow:Assets written to: /checkpoint/assets\n",
            "Epoch 12/70\n",
            "391/391 [==============================] - 6s 16ms/step - loss: 0.4085 - accuracy: 0.8544 - val_loss: 0.6244 - val_accuracy: 0.7962\n",
            "INFO:tensorflow:Assets written to: /checkpoint/assets\n",
            "Epoch 13/70\n",
            "391/391 [==============================] - 6s 16ms/step - loss: 0.3859 - accuracy: 0.8635 - val_loss: 0.6271 - val_accuracy: 0.7960\n",
            "INFO:tensorflow:Assets written to: /checkpoint/assets\n",
            "Epoch 14/70\n",
            "391/391 [==============================] - 7s 17ms/step - loss: 0.3751 - accuracy: 0.8677 - val_loss: 0.6233 - val_accuracy: 0.7983\n",
            "INFO:tensorflow:Assets written to: /checkpoint/assets\n",
            "Epoch 15/70\n",
            "391/391 [==============================] - 6s 16ms/step - loss: 0.3314 - accuracy: 0.8833 - val_loss: 0.6278 - val_accuracy: 0.8004\n",
            "INFO:tensorflow:Assets written to: /checkpoint/assets\n",
            "Epoch 16/70\n",
            "391/391 [==============================] - 7s 17ms/step - loss: 0.3133 - accuracy: 0.8889 - val_loss: 0.6044 - val_accuracy: 0.8083\n",
            "INFO:tensorflow:Assets written to: /checkpoint/assets\n",
            "Epoch 17/70\n",
            "391/391 [==============================] - 6s 16ms/step - loss: 0.3082 - accuracy: 0.8921 - val_loss: 0.6436 - val_accuracy: 0.8001\n",
            "INFO:tensorflow:Assets written to: /checkpoint/assets\n",
            "Epoch 18/70\n",
            "391/391 [==============================] - 7s 17ms/step - loss: 0.2915 - accuracy: 0.8969 - val_loss: 0.6333 - val_accuracy: 0.8008\n",
            "INFO:tensorflow:Assets written to: /checkpoint/assets\n",
            "Epoch 19/70\n",
            "391/391 [==============================] - 7s 17ms/step - loss: 0.2806 - accuracy: 0.9017 - val_loss: 0.6499 - val_accuracy: 0.8063\n",
            "INFO:tensorflow:Assets written to: /checkpoint/assets\n"
          ],
          "name": "stdout"
        },
        {
          "output_type": "execute_result",
          "data": {
            "text/plain": [
              "<keras.callbacks.History at 0x7fca77716f50>"
            ]
          },
          "metadata": {
            "tags": []
          },
          "execution_count": 91
        }
      ]
    },
    {
      "cell_type": "markdown",
      "metadata": {
        "id": "b5c_zYozCLFF"
      },
      "source": [
        "Final evaluation of the model"
      ]
    },
    {
      "cell_type": "code",
      "metadata": {
        "id": "j7l-gnT2Bt1O",
        "colab": {
          "base_uri": "https://localhost:8080/"
        },
        "outputId": "d623e686-53ac-4f7f-91ce-4f3a79842866"
      },
      "source": [
        "scores = model.evaluate(X_test, y_test, verbose=0)\n",
        "print(\"Accuracy: %.2f%%\" % (scores[1]*100))"
      ],
      "execution_count": null,
      "outputs": [
        {
          "output_type": "stream",
          "text": [
            "Accuracy: 80.63%\n"
          ],
          "name": "stdout"
        }
      ]
    },
    {
      "cell_type": "markdown",
      "metadata": {
        "id": "QqEmLxSPtmb7"
      },
      "source": [
        "Predicting the first 4 images"
      ]
    },
    {
      "cell_type": "code",
      "metadata": {
        "colab": {
          "base_uri": "https://localhost:8080/",
          "height": 1000
        },
        "id": "N-uF1Wq-ttPo",
        "outputId": "e6a517f0-33ae-43d0-ffca-1cb8bc2fc765"
      },
      "source": [
        "# Import pyplot\n",
        "import matplotlib.pyplot as plt\n",
        "\n",
        "# Create list of labels for readable output\n",
        "labels_list = ['airplane', 'automobile', 'bird', 'cat', 'deer', 'dog', 'frog', 'horse', 'ship', 'truck']\n",
        "\n",
        "# Get image, prediction vector(via softmax), prediction choice(as word, not index), and label from y_test(as word, not index)\n",
        "for i in range(4):\n",
        "    plt.imshow(X_test[i])\n",
        "    print('_' * 96)\n",
        "    print('#' + str(i + 1))\n",
        "    print('Raw Prediction: ' + str(model.predict(X_test[i:i+1])))\n",
        "    print('Prediction Choice: ' + labels_list[model.predict(X_test[i:i+1]).argmax()])\n",
        "    print('Label: ' + labels_list[y_test[i].argmax()])\n",
        "    plt.show()"
      ],
      "execution_count": null,
      "outputs": [
        {
          "output_type": "stream",
          "text": [
            "________________________________________________________________________________________________\n",
            "#1\n",
            "Raw Prediction: [[1.4274690e-03 4.4145563e-05 7.3465616e-02 8.4455895e-01 9.9645264e-04\n",
            "  3.2906529e-02 4.6428654e-02 2.8847186e-05 7.2745970e-05 7.0521673e-05]]\n",
            "Prediction Choice: cat\n",
            "Label: cat\n"
          ],
          "name": "stdout"
        },
        {
          "output_type": "display_data",
          "data": {
            "image/png": "[encoded data removed]",
            "text/plain": [
              "<Figure size 432x288 with 1 Axes>"
            ]
          },
          "metadata": {
            "tags": [],
            "needs_background": "light"
          }
        },
        {
          "output_type": "stream",
          "text": [
            "________________________________________________________________________________________________\n",
            "#2\n",
            "Raw Prediction: [[3.9968328e-04 4.1245436e-03 5.0343170e-09 2.2542501e-08 8.2642009e-09\n",
            "  6.9819754e-11 6.0882490e-09 3.8930876e-11 9.9542052e-01 5.5157605e-05]]\n",
            "Prediction Choice: ship\n",
            "Label: ship\n"
          ],
          "name": "stdout"
        },
        {
          "output_type": "display_data",
          "data": {
            "image/png": "[encoded data removed]",
            "text/plain": [
              "<Figure size 432x288 with 1 Axes>"
            ]
          },
          "metadata": {
            "tags": [],
            "needs_background": "light"
          }
        },
        {
          "output_type": "stream",
          "text": [
            "________________________________________________________________________________________________\n",
            "#3\n",
            "Raw Prediction: [[4.3108699e-01 8.9942040e-03 3.2231745e-03 3.1134648e-02 1.1967016e-04\n",
            "  1.0238382e-03 2.8264924e-04 2.5803572e-03 4.6522728e-01 5.6327220e-02]]\n",
            "Prediction Choice: ship\n",
            "Label: ship\n"
          ],
          "name": "stdout"
        },
        {
          "output_type": "display_data",
          "data": {
            "image/png": "[encoded data removed]",
            "text/plain": [
              "<Figure size 432x288 with 1 Axes>"
            ]
          },
          "metadata": {
            "tags": [],
            "needs_background": "light"
          }
        },
        {
          "output_type": "stream",
          "text": [
            "________________________________________________________________________________________________\n",
            "#4\n",
            "Raw Prediction: [[9.3273020e-01 6.3884676e-05 2.5724484e-02 1.2951435e-03 1.2637927e-04\n",
            "  3.1305954e-05 3.0946447e-07 3.2441068e-05 3.9904520e-02 9.1282462e-05]]\n",
            "Prediction Choice: airplane\n",
            "Label: airplane\n"
          ],
          "name": "stdout"
        },
        {
          "output_type": "display_data",
          "data": {
            "image/png": "[encoded data removed]",
            "text/plain": [
              "<Figure size 432x288 with 1 Axes>"
            ]
          },
          "metadata": {
            "tags": [],
            "needs_background": "light"
          }
        }
      ]
    }
  ]
}