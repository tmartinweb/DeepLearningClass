{
  "nbformat": 4,
  "nbformat_minor": 0,
  "metadata": {
    "colab": {
      "name": "DL_Lesson_1_(diabetes).ipynb",
      "provenance": [],
      "collapsed_sections": []
    },
    "kernelspec": {
      "name": "python3",
      "display_name": "Python 3"
    }
  },
  "cells": [
    {
      "cell_type": "code",
      "metadata": {
        "id": "pTRagYcvHjDj"
      },
      "source": [
        "import pandas\n",
        "from keras.models import Sequential\n",
        "from keras.layers.core import Dense, Activation\n",
        "\n",
        "# load dataset\n",
        "from sklearn.model_selection import train_test_split\n",
        "import pandas as pd\n",
        "import numpy as np\n",
        "from matplotlib import pyplot as plt"
      ],
      "execution_count": 26,
      "outputs": []
    },
    {
      "cell_type": "code",
      "metadata": {
        "id": "ApzFGDkOHnt7"
      },
      "source": [
        "# dataset = pd.read_csv(\"/content/diabetes.csv\") # Reads .csv file as DataFrame.\n",
        "dataset = pd.read_csv(\"/content/diabetes.csv\", header=None).values # Reads .csv file as Numpy Ndarray"
      ],
      "execution_count": 16,
      "outputs": []
    },
    {
      "cell_type": "code",
      "metadata": {
        "id": "rHfdZheJ_lh3"
      },
      "source": [
        "print(type(dataset))\n",
        "print(dataset.shape)"
      ],
      "execution_count": null,
      "outputs": []
    },
    {
      "cell_type": "code",
      "metadata": {
        "id": "yt64olkkHwft"
      },
      "source": [
        "# Last column is our target [0, 1]\n",
        "X_train, X_test, Y_train, Y_test = train_test_split(dataset[:,0:8], dataset[:,8], test_size=0.25, random_state=22)\n",
        "\n",
        "print(\"X_train.shape: \", X_train.shape)\n",
        "print(\"Y_train.shape: \", Y_train.shape)\n",
        "print(\"X_test.shape: \", X_test.shape)\n",
        "print(\"Y_test.shape: \", Y_test.shape)"
      ],
      "execution_count": null,
      "outputs": []
    },
    {
      "cell_type": "code",
      "metadata": {
        "id": "rMfomxTmH3ww"
      },
      "source": [
        "my_first_nn = Sequential() # create a Sequential model\n",
        "\n",
        "my_first_nn.add(Dense(20, input_dim=8, activation='relu')) # hidden layer\n",
        "my_first_nn.add(Dense(1, activation='sigmoid')) # output layer (WHY 'sigmoid function!!!')\n",
        "\n",
        "my_first_nn.compile(loss='binary_crossentropy', optimizer='adam', metrics=['acc'])\n",
        "\n",
        "print(my_first_nn.summary())\n",
        "\n",
        "# The returned history object holds a record of the loss values and metric values during training\n",
        "history =  my_first_nn_fitted = my_first_nn.fit(X_train, Y_train, epochs=200, verbose=1, shuffle=True)"
      ],
      "execution_count": null,
      "outputs": []
    },
    {
      "cell_type": "code",
      "metadata": {
        "id": "Ucrl_X9eDflQ"
      },
      "source": [
        "plt.plot(history.history['acc'])\n",
        "plt.title('Model Training Accuracy')\n",
        "plt.ylabel('accuracy')\n",
        "plt.xlabel('epoch')\n",
        "plt.legend(['train'], loc='upper left')\n",
        "plt.show()"
      ],
      "execution_count": null,
      "outputs": []
    },
    {
      "cell_type": "code",
      "metadata": {
        "id": "19SYVY4DH7OW"
      },
      "source": [
        "print(my_first_nn.evaluate(X_test, Y_test))"
      ],
      "execution_count": null,
      "outputs": []
    }
  ]
}