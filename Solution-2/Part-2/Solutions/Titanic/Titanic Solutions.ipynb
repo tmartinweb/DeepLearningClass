{
  "nbformat": 4,
  "nbformat_minor": 0,
  "metadata": {
    "colab": {
      "name": "Preprocessing_EDA.ipynb",
      "provenance": [],
      "collapsed_sections": []
    },
    "kernelspec": {
      "name": "python3",
      "display_name": "Python 3"
    }
  },
  "cells": [
    {
      "cell_type": "code",
      "metadata": {
        "id": "bzdcxQX8T2gi"
      },
      "source": [
        "import pandas as pd\n",
        "import numpy as np\n",
        "import random as rnd\n",
        "\n",
        "# visualization\n",
        "import seaborn as sns\n",
        "import matplotlib.pyplot as plt\n",
        "\n",
        "# machine learning\n",
        "from sklearn.linear_model import LogisticRegression, RidgeClassifierCV\n",
        "from sklearn.svm import SVC, LinearSVC\n",
        "from sklearn.ensemble import (RandomForestClassifier, GradientBoostingClassifier)\n",
        "from sklearn.neighbors import KNeighborsClassifier\n",
        "from sklearn.naive_bayes import GaussianNB\n",
        "from sklearn.linear_model import Perceptron\n",
        "from sklearn.linear_model import SGDClassifier\n",
        "from sklearn.tree import DecisionTreeClassifier\n",
        "from sklearn.model_selection import cross_val_score, GridSearchCV\n",
        "from sklearn.metrics import accuracy_score"
      ],
      "execution_count": null,
      "outputs": []
    },
    {
      "cell_type": "markdown",
      "metadata": {
        "id": "bOp3dTEQUVdg"
      },
      "source": [
        "##Mounting your Google Drive in your virtual machine"
      ]
    },
    {
      "cell_type": "code",
      "metadata": {
        "id": "ZuVndUOXT735"
      },
      "source": [
        "from google.colab import drive\n",
        "drive.mount('/content/drive/')"
      ],
      "execution_count": null,
      "outputs": []
    },
    {
      "cell_type": "markdown",
      "metadata": {
        "id": "6K1PTVekUtrm"
      },
      "source": [
        "##Reading data set\n"
      ]
    },
    {
      "cell_type": "code",
      "metadata": {
        "id": "bQ5RRTPeUt_m"
      },
      "source": [
        "train_df = pd.read_csv('/content/train.csv')\n",
        "test_df = pd.read_csv('/content/test.csv')\n",
        "combine = [train_df, test_df]"
      ],
      "execution_count": null,
      "outputs": []
    },
    {
      "cell_type": "markdown",
      "metadata": {
        "id": "HeZmTxtwVC_E"
      },
      "source": [
        "##describing data"
      ]
    },
    {
      "cell_type": "code",
      "metadata": {
        "id": "8thzKe5_VDGI"
      },
      "source": [
        "# https://www.kaggle.com/c/titanic/data\n",
        "print(train_df.columns.values)"
      ],
      "execution_count": null,
      "outputs": []
    },
    {
      "cell_type": "code",
      "metadata": {
        "id": "uwx7jtJWVHRU"
      },
      "source": [
        "train_df.head()"
      ],
      "execution_count": null,
      "outputs": []
    },
    {
      "cell_type": "markdown",
      "metadata": {
        "id": "HqQgy4RFVU1n"
      },
      "source": [
        "##what are the data types for features\n"
      ]
    },
    {
      "cell_type": "code",
      "metadata": {
        "id": "83ujuGIxVVho"
      },
      "source": [
        "# https://pandas.pydata.org/pandas-docs/stable/reference/api/pandas.DataFrame.info.html\n",
        "train_df.info()\n",
        "print('_'*40)\n",
        "test_df.info()"
      ],
      "execution_count": null,
      "outputs": []
    },
    {
      "cell_type": "markdown",
      "metadata": {
        "id": "DgjyxGOPVYEv"
      },
      "source": [
        "##What is the distribution of numerical feature values across the samples\n"
      ]
    },
    {
      "cell_type": "code",
      "metadata": {
        "id": "hor0zEo9VYLE"
      },
      "source": [
        "# https://pandas.pydata.org/pandas-docs/stable/reference/api/pandas.DataFrame.describe.html\n",
        "train_df.describe()"
      ],
      "execution_count": null,
      "outputs": []
    },
    {
      "cell_type": "markdown",
      "metadata": {
        "id": "t1k1Xp0GVdA_"
      },
      "source": [
        "##Analyze by pivoting features ---> the higher the number means more correlation with the target\n"
      ]
    },
    {
      "cell_type": "code",
      "metadata": {
        "id": "CdT9NHQPVdHj"
      },
      "source": [
        "print(train_df[['Pclass', 'Survived']].groupby(['Pclass'], as_index=False).mean().sort_values(by='Survived', ascending=False))\n",
        "print('_'*20)\n",
        "print(train_df[[\"Sex\", \"Survived\"]].groupby(['Sex'], as_index=False).mean().sort_values(by='Survived', ascending=False))\n",
        "print('_'*20)\n",
        "print(train_df[[\"SibSp\", \"Survived\"]].groupby(['SibSp'], as_index=False).mean().sort_values(by='Survived', ascending=False))\n",
        "print('_'*20)\n",
        "print(train_df[[\"Parch\", \"Survived\"]].groupby(['Parch'], as_index=False).mean().sort_values(by='Survived', ascending=False))"
      ],
      "execution_count": null,
      "outputs": []
    },
    {
      "cell_type": "markdown",
      "metadata": {
        "id": "kqZXh6DJVhkL"
      },
      "source": [
        "##Analyze by visualizing data\n",
        "###Correlating numerical features"
      ]
    },
    {
      "cell_type": "code",
      "metadata": {
        "id": "prxYyJrnVhq4"
      },
      "source": [
        "g = sns.FacetGrid(train_df, col='Survived')\n",
        "g.map(plt.hist, 'Age', bins=20)"
      ],
      "execution_count": null,
      "outputs": []
    },
    {
      "cell_type": "code",
      "metadata": {
        "id": "m5gmVWt4fIcx"
      },
      "source": [
        "# Plot the correlation between col='Survived' and 'Age'"
      ],
      "execution_count": null,
      "outputs": []
    },
    {
      "cell_type": "code",
      "metadata": {
        "id": "SZvmyaSTh8tR"
      },
      "source": [
        "survived = 'survived'\n",
        "not_survived = 'not survived'\n",
        "fig, axes = plt.subplots(nrows=1, ncols=2,figsize=(10, 4))\n",
        "women = train_df[train_df['Sex']=='female']\n",
        "men = train_df[train_df['Sex']=='male']\n",
        "ax = sns.distplot(women[women['Survived']==1].Age.dropna(), bins=18, label = survived, ax = axes[0], kde =False)\n",
        "ax = sns.distplot(women[women['Survived']==0].Age.dropna(), bins=40, label = not_survived, ax = axes[0], kde =False)\n",
        "ax.legend()\n",
        "ax.set_title('Female')\n",
        "ax = sns.distplot(men[men['Survived']==1].Age.dropna(), bins=18, label = survived, ax = axes[1], kde = False)\n",
        "ax = sns.distplot(men[men['Survived']==0].Age.dropna(), bins=40, label = not_survived, ax = axes[1], kde = False)\n",
        "ax.legend()\n",
        "_ = ax.set_title('Male')"
      ],
      "execution_count": null,
      "outputs": []
    },
    {
      "cell_type": "markdown",
      "metadata": {
        "id": "8jvYfuvSVlN4"
      },
      "source": [
        "##Correlating categorical features\n"
      ]
    },
    {
      "cell_type": "code",
      "metadata": {
        "id": "qx29sv9BVlUl"
      },
      "source": [
        "grid = sns.FacetGrid(train_df, row='Embarked', size=2.2, aspect=1.6)\n",
        "grid.map(sns.pointplot, 'Pclass', 'Survived', 'Sex', palette='deep')\n",
        "grid.add_legend()\n",
        "grid = sns.FacetGrid(train_df, row='Embarked', col='Survived', size=2.2, aspect=1.6)\n",
        "grid.map(sns.barplot, 'Sex', 'Fare', alpha=.5, ci=None)\n",
        "grid.add_legend()"
      ],
      "execution_count": null,
      "outputs": []
    },
    {
      "cell_type": "markdown",
      "metadata": {
        "id": "G0WbHur-Von-"
      },
      "source": [
        "##Correcting by dropping features\n"
      ]
    },
    {
      "cell_type": "code",
      "metadata": {
        "id": "dHfu6DfhVouX"
      },
      "source": [
        "train_df = train_df.drop(['Ticket', 'Cabin','Parch','SibSp'], axis=1)\n",
        "test_df = test_df.drop(['Ticket', 'Cabin','Parch','SibSp'], axis=1)"
      ],
      "execution_count": null,
      "outputs": []
    },
    {
      "cell_type": "markdown",
      "metadata": {
        "id": "dDhQs3u-Z8e5"
      },
      "source": [
        "##Creating new feature extracting from existing"
      ]
    },
    {
      "cell_type": "code",
      "metadata": {
        "id": "dwglTzVGZ8m4"
      },
      "source": [
        "for dataset in combine:\n",
        "    dataset['Title'] = dataset.Name.str.extract(' ([A-Za-z]+)\\.', expand=False)"
      ],
      "execution_count": null,
      "outputs": []
    },
    {
      "cell_type": "code",
      "metadata": {
        "id": "rlj7o_vQgUUa"
      },
      "source": [
        "print(dataset['Title'])"
      ],
      "execution_count": null,
      "outputs": []
    },
    {
      "cell_type": "markdown",
      "metadata": {
        "id": "5cv61YcpVr9Z"
      },
      "source": [
        "##Creating new feature extracting from existing\n"
      ]
    },
    {
      "cell_type": "code",
      "metadata": {
        "id": "oqQWSEKNVsEL"
      },
      "source": [
        "for dataset in combine:\n",
        "     dataset['Title'] = dataset['Title'].replace(['Lady', 'Countess', 'Jonkheer', 'Dona'], 'Lady')\n",
        "     dataset['Title'] = dataset['Title'].replace(['Capt', 'Don', 'Major', 'Sir'], 'Sir')\n",
        "     dataset['Title'] = dataset['Title'].replace('Mlle', 'Miss')\n",
        "     dataset['Title'] = dataset['Title'].replace('Ms', 'Miss')\n",
        "     dataset['Title'] = dataset['Title'].replace('Mme', 'Mrs')"
      ],
      "execution_count": null,
      "outputs": []
    },
    {
      "cell_type": "markdown",
      "metadata": {
        "id": "IOKngMy5VwbH"
      },
      "source": [
        "##We can convert the categorical titles to ordinal\n",
        "\n",
        "\n",
        "\n"
      ]
    },
    {
      "cell_type": "code",
      "metadata": {
        "id": "3u-ZT8o2Vwlu"
      },
      "source": [
        "title_mapping = {\"Col\": 1, \"Dr\": 2, \"Lady\": 3, \"Master\": 4, \"Miss\": 5, \"Mr\": 6, \"Mrs\": 7, \"Rev\": 8, \"Sir\": 9}\n",
        "for dataset in combine:\n",
        "    dataset['Title'] = dataset['Title'].map(title_mapping)\n",
        "    dataset['Title'] = dataset['Title'].fillna(0)"
      ],
      "execution_count": null,
      "outputs": []
    },
    {
      "cell_type": "markdown",
      "metadata": {
        "id": "fpoG1V5UV0gi"
      },
      "source": [
        "##Now we can safely drop the Name feature from training and testing datasets. We also do not need the PassengerId\n"
      ]
    },
    {
      "cell_type": "code",
      "metadata": {
        "id": "0UdbSCpLV0pJ"
      },
      "source": [
        "train_df = train_df.drop(['Name', 'PassengerId'], axis=1)\n",
        "test_df = test_df.drop(['Name'], axis=1)\n",
        "combine = [train_df, test_df]"
      ],
      "execution_count": null,
      "outputs": []
    },
    {
      "cell_type": "markdown",
      "metadata": {
        "id": "Kfw6mU1aV5R0"
      },
      "source": [
        "##Converting a categorical feature\n"
      ]
    },
    {
      "cell_type": "code",
      "metadata": {
        "id": "zh_NeWC3V5YZ"
      },
      "source": [
        "for dataset in combine:\n",
        "    dataset['Sex'] = dataset['Sex'].map( {'female': 1, 'male': 0} ).astype(int)"
      ],
      "execution_count": null,
      "outputs": []
    },
    {
      "cell_type": "markdown",
      "metadata": {
        "id": "fOCoAkBDV-Ou"
      },
      "source": [
        "##Now we should start estimating and completing features with missing or null values. We will first do this for the Age feature.\n",
        "##filling NA valuaes"
      ]
    },
    {
      "cell_type": "code",
      "metadata": {
        "id": "6lHfl-ZtjYiY"
      },
      "source": [
        "train_df['Embarked'].describe()"
      ],
      "execution_count": null,
      "outputs": []
    },
    {
      "cell_type": "code",
      "metadata": {
        "id": "5sT_pVakjCXg"
      },
      "source": [
        "common_value = 'S'\n",
        "data = [train_df, test_df]\n",
        "\n",
        "for dataset in data:\n",
        "    dataset['Embarked'] = dataset['Embarked'].fillna(common_value)"
      ],
      "execution_count": null,
      "outputs": []
    },
    {
      "cell_type": "code",
      "metadata": {
        "id": "xADP1xgSkvI0"
      },
      "source": [
        "ports = {\"S\": 0, \"C\": 1, \"Q\": 2}\n",
        "data = [train_df, test_df]\n",
        "\n",
        "for dataset in data:\n",
        "    dataset['Embarked'] = dataset['Embarked'].map(ports)"
      ],
      "execution_count": null,
      "outputs": []
    },
    {
      "cell_type": "code",
      "metadata": {
        "id": "hiJt4FI3V-Wg"
      },
      "source": [
        "meanAge = int(train_df.Age.dropna().mean())"
      ],
      "execution_count": null,
      "outputs": []
    },
    {
      "cell_type": "markdown",
      "metadata": {
        "id": "2Wl6844uWFyV"
      },
      "source": [
        "##Converting categorical feature to numeric\n"
      ]
    },
    {
      "cell_type": "code",
      "metadata": {
        "id": "PD5qJdceWF54"
      },
      "source": [
        "for dataset in combine:\n",
        "    dataset['Age'] = dataset['Age'].fillna(meanAge)\n",
        "    dataset['Fare'] = dataset['Fare'].fillna(test_df['Fare'].dropna().median())\n",
        "\n",
        "combine[0].to_csv('train_preprocessed.csv',index=False)\n",
        "combine[1].to_csv('test_preprocessed.csv',index=False)"
      ],
      "execution_count": null,
      "outputs": []
    },
    {
      "cell_type": "code",
      "metadata": {
        "id": "T5tBdNPEyeJT"
      },
      "source": [
        "# Assignment 2 Part 2 Titanic 1:\n",
        "print(train_df[[\"Sex\", \"Survived\"]].groupby(['Sex'], as_index=False).mean().sort_values(by='Survived', ascending=False))\n",
        "# Yes, I would keep this feature as it has a very high correlation with the target"
      ],
      "execution_count": null,
      "outputs": []
    },
    {
      "cell_type": "code",
      "metadata": {
        "id": "G_Y-1s7gzOXP"
      },
      "source": [
        "# Assignment 2 Part 2 Titanic 2 - Plotting Survived(Class, Age):\n",
        "survived = 'survived'\n",
        "not_survived = 'not survived'\n",
        "fig, axes = plt.subplots(nrows=1, ncols=3,figsize=(10, 4))\n",
        "p0 = train_df[train_df['Pclass']==1]\n",
        "p1 = train_df[train_df['Pclass']==2]\n",
        "p2 = train_df[train_df['Pclass']==3]\n",
        "\n",
        "ax = sns.distplot(p0[p0['Survived']==1].Age.dropna(), bins=18, label = survived, ax = axes[0], kde =False)\n",
        "ax = sns.distplot(p0[p0['Survived']==0].Age.dropna(), bins=40, label = not_survived, ax = axes[0], kde =False)\n",
        "ax.legend()\n",
        "ax.set_title('1st Class')\n",
        "\n",
        "\n",
        "ax = sns.distplot(p1[p1['Survived']==1].Age.dropna(), bins=18, label = survived, ax = axes[1], kde = False)\n",
        "ax = sns.distplot(p1[p1['Survived']==0].Age.dropna(), bins=40, label = not_survived, ax = axes[1], kde = False)\n",
        "ax.legend()\n",
        "_ = ax.set_title('2nd Class')\n",
        "\n",
        "ax = sns.distplot(p2[p2['Survived']==1].Age.dropna(), bins=18, label = survived, ax = axes[2], kde = False)\n",
        "ax = sns.distplot(p2[p2['Survived']==0].Age.dropna(), bins=40, label = not_survived, ax = axes[2], kde = False)\n",
        "ax.legend()\n",
        "_ = ax.set_title('3rd Class')"
      ],
      "execution_count": null,
      "outputs": []
    },
    {
      "cell_type": "code",
      "metadata": {
        "id": "VLf0e2i644Zy"
      },
      "source": [
        "# Assignment 2 Part 2 Titanic 2 - Correlation Survived(Class, Age, Binned_Fares):\n",
        "\n",
        "# Since we are using fares for an axis, we need to put it bins, i chose 5\n",
        "train_df['Binned_Fares'] = pd.cut(train_df['Fare'], 5)\n",
        "print(train_df.columns)\n",
        "\n",
        "# Plot each graph by Class, against Binned_Fares, Age, and Survived\n",
        "grid = sns.FacetGrid(train_df, row='Pclass', size=5, aspect=2)\n",
        "grid.map(sns.pointplot, 'Binned_Fares', 'Age', 'Survived', palette='deep')\n",
        "grid.add_legend()\n",
        "grid = sns.FacetGrid(train_df, row='Pclass', col='Survived', size=5, aspect=2)\n",
        "grid.map(sns.barplot, 'Binned_Fares', 'Age', alpha=.5, ci=None)\n",
        "grid.add_legend()\n"
      ],
      "execution_count": null,
      "outputs": []
    }
  ]
}