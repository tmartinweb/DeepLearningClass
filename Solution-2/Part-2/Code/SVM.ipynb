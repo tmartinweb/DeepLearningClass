{
  "nbformat": 4,
  "nbformat_minor": 0,
  "metadata": {
    "colab": {
      "name": "SVM.ipynb",
      "provenance": [],
      "collapsed_sections": []
    },
    "kernelspec": {
      "name": "python3",
      "display_name": "Python 3"
    }
  },
  "cells": [
    {
      "cell_type": "markdown",
      "metadata": {
        "id": "y3iqZyUOa9sU"
      },
      "source": [
        "# SVM"
      ]
    },
    {
      "cell_type": "code",
      "metadata": {
        "id": "r5rowo9pamxX"
      },
      "source": [
        "import pandas as pd\n",
        "from sklearn.svm import SVC, LinearSVC"
      ],
      "execution_count": 1,
      "outputs": []
    },
    {
      "cell_type": "code",
      "metadata": {
        "id": "c0J_CtDyaqyB"
      },
      "source": [
        "from google.colab import drive\n",
        "drive.mount('/content/drive/')"
      ],
      "execution_count": null,
      "outputs": []
    },
    {
      "cell_type": "code",
      "metadata": {
        "id": "kfxhpUZcas9l"
      },
      "source": [
        "train_df = pd.read_csv('drive/My Drive/colab notebooks/Python-DL/Lesson_4/train_preprocessed.csv')\n",
        "test_df = pd.read_csv('drive/My Drive/colab notebooks/Python-DL/Lesson_4/test_preprocessed.csv')\n",
        "X_train = train_df.drop(\"Survived\",axis=1)\n",
        "Y_train = train_df[\"Survived\"]\n",
        "X_test = test_df.drop(\"PassengerId\",axis=1).copy()\n",
        "print(train_df[train_df.isnull().any(axis=1)])"
      ],
      "execution_count": null,
      "outputs": []
    },
    {
      "cell_type": "markdown",
      "metadata": {
        "id": "dT97Q6wqa4iG"
      },
      "source": [
        "##SVM"
      ]
    },
    {
      "cell_type": "code",
      "metadata": {
        "id": "6ZY7Spjya2EW"
      },
      "source": [
        "svc = SVC()\n",
        "svc.fit(X_train, Y_train)\n",
        "Y_pred = svc.predict(X_test)\n",
        "acc_svc = round(svc.score(X_train, Y_train) * 100, 2)\n",
        "print(\"svm accuracy is:\", acc_svc)"
      ],
      "execution_count": null,
      "outputs": []
    }
  ]
}